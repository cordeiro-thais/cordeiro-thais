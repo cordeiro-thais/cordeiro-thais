{
  "nbformat": 4,
  "nbformat_minor": 0,
  "metadata": {
    "colab": {
      "name": "Exercício_2",
      "provenance": [],
      "authorship_tag": "ABX9TyMgzdBC8FqNRFkeI+XLXL6S",
      "include_colab_link": true
    },
    "kernelspec": {
      "name": "python3",
      "display_name": "Python 3"
    },
    "language_info": {
      "name": "python"
    }
  },
  "cells": [
    {
      "cell_type": "markdown",
      "metadata": {
        "id": "view-in-github",
        "colab_type": "text"
      },
      "source": [
        "<a href=\"https://colab.research.google.com/github/cordeiro-thais/cordeiro-thais/blob/main/Exerc%C3%ADcio_2.ipynb\" target=\"_parent\"><img src=\"https://colab.research.google.com/assets/colab-badge.svg\" alt=\"Open In Colab\"/></a>"
      ]
    },
    {
      "cell_type": "markdown",
      "source": [
        "1. Listas\n",
        "Criei uma lista chamada filmes com o nome dos 10 primeiros filmes mais bem avaliados no site no IMDB. Imprima o resultado.\n",
        "\n",
        "2. Conjuntos\n",
        "Aconteceu um erro no seu ranking. Simule a duplicação dos três últimos filmes da lista. Imprima o resultado.\n",
        "Utiliza a conversão set e list para remover os valores duplicados. Imprima o resultado.\n",
        "\n",
        "3. Dicionários\n",
        "Repita os exercícios da parte 1 (listas). Os elementos da lista filmes devem ser dicionários no seguinte formato: {'nome': <nome-do-filme>, 'ano': <ano do filme>},'sinopse': <sinopse do filme>} ."
      ],
      "metadata": {
        "id": "MU2yzB_8CjrA"
      }
    },
    {
      "cell_type": "code",
      "execution_count": null,
      "metadata": {
        "colab": {
          "base_uri": "https://localhost:8080/"
        },
        "id": "Z7LKNZn596WW",
        "outputId": "c017739e-4d18-431a-824f-78fa0b608b1b"
      },
      "outputs": [
        {
          "output_type": "stream",
          "name": "stdout",
          "text": [
            "['Um Sonho de Liberdade', 'O Poderoso Chefão', 'Batman: O Cavaleiro das Trevas', 'O Poderoso Chefão II', '12 Homens e uma Sentença', 'A Lista de Schindler', 'O Senhor dos Anéis: O Retorno do Rei', 'Pulp Fiction: Tempo de Violência', 'O Senhor dos Anéis: A Sociedade do Anel', 'Três Homens em Conflito']\n"
          ]
        }
      ],
      "source": [
        "filmes = ['Um Sonho de Liberdade', 'O Poderoso Chefão', 'Batman: O Cavaleiro das Trevas', 'O Poderoso Chefão II', '12 Homens e uma Sentença', 'A Lista de Schindler', 'O Senhor dos Anéis: O Retorno do Rei', 'Pulp Fiction: Tempo de Violência', 'O Senhor dos Anéis: A Sociedade do Anel', 'Três Homens em Conflito']\n",
        "print(filmes)"
      ]
    },
    {
      "cell_type": "code",
      "source": [
        "segundo_filmes = filmes.pop(1)\n",
        "print(segundo_filmes)"
      ],
      "metadata": {
        "colab": {
          "base_uri": "https://localhost:8080/"
        },
        "id": "65IhPouD9-NP",
        "outputId": "8061b6a4-f524-4f16-c681-6b264f3e3bcf"
      },
      "execution_count": null,
      "outputs": [
        {
          "output_type": "stream",
          "name": "stdout",
          "text": [
            "O Poderoso Chefão\n"
          ]
        }
      ]
    },
    {
      "cell_type": "code",
      "source": [
        "print(filmes)"
      ],
      "metadata": {
        "colab": {
          "base_uri": "https://localhost:8080/"
        },
        "id": "3hnjh6R9-X66",
        "outputId": "42244d5d-5ac9-42a8-9979-ff24ac55d1af"
      },
      "execution_count": null,
      "outputs": [
        {
          "output_type": "stream",
          "name": "stdout",
          "text": [
            "['Um Sonho de Liberdade', 'O Poderoso Chefão II', '12 Homens e uma Sentença', 'A Lista de Schindler', 'O Senhor dos Anéis: O Retorno do Rei', 'Pulp Fiction: Tempo de Violência', 'O Senhor dos Anéis: A Sociedade do Anel', 'Três Homens em Conflito']\n"
          ]
        }
      ]
    },
    {
      "cell_type": "code",
      "source": [
        "filmes.insert(0,'O Poderoso Chefão')\n",
        "print(filmes)"
      ],
      "metadata": {
        "colab": {
          "base_uri": "https://localhost:8080/"
        },
        "id": "PQP8992A-afJ",
        "outputId": "1cbdbb7b-b03f-4eb4-fd5a-608bb8600b86"
      },
      "execution_count": null,
      "outputs": [
        {
          "output_type": "stream",
          "name": "stdout",
          "text": [
            "['O Poderoso Chefão', 'Um Sonho de Liberdade', 'O Poderoso Chefão II', '12 Homens e uma Sentença', 'A Lista de Schindler', 'O Senhor dos Anéis: O Retorno do Rei', 'Pulp Fiction: Tempo de Violência', 'O Senhor dos Anéis: A Sociedade do Anel', 'Três Homens em Conflito']\n"
          ]
        }
      ]
    },
    {
      "cell_type": "code",
      "source": [
        "filmes = ['Um Sonho de Liberdade', 'O Poderoso Chefão', 'Batman: O Cavaleiro das Trevas', 'O Poderoso Chefão II', '12 Homens e uma Sentença', 'A Lista de Schindler', 'O Senhor dos Anéis: O Retorno do Rei', 'Pulp Fiction: Tempo de Violência', 'Pulp Fiction: Tempo de Violência', 'O Senhor dos Anéis: A Sociedade do Anel', 'O Senhor dos Anéis: A Sociedade do Anel', 'Três Homens em Conflito', 'Três Homens em Conflito']\n",
        "print(filmes)"
      ],
      "metadata": {
        "colab": {
          "base_uri": "https://localhost:8080/"
        },
        "id": "dTm9dtlO-iGY",
        "outputId": "fe3a95b3-2ea8-4bee-ce6c-c4a5d24a3f74"
      },
      "execution_count": null,
      "outputs": [
        {
          "output_type": "stream",
          "name": "stdout",
          "text": [
            "['Um Sonho de Liberdade', 'O Poderoso Chefão', 'Batman: O Cavaleiro das Trevas', 'O Poderoso Chefão II', '12 Homens e uma Sentença', 'A Lista de Schindler', 'O Senhor dos Anéis: O Retorno do Rei', 'Pulp Fiction: Tempo de Violência', 'Pulp Fiction: Tempo de Violência', 'O Senhor dos Anéis: A Sociedade do Anel', 'O Senhor dos Anéis: A Sociedade do Anel', 'Três Homens em Conflito', 'Três Homens em Conflito']\n"
          ]
        }
      ]
    },
    {
      "cell_type": "code",
      "source": [
        "filmes = {'Um Sonho de Liberdade', 'O Poderoso Chefão', 'Batman: O Cavaleiro das Trevas', 'O Poderoso Chefão II', '12 Homens e uma Sentença', 'A Lista de Schindler', 'O Senhor dos Anéis: O Retorno do Rei', 'Pulp Fiction: Tempo de Violência', 'Pulp Fiction: Tempo de Violência', 'O Senhor dos Anéis: A Sociedade do Anel', 'O Senhor dos Anéis: A Sociedade do Anel', 'Três Homens em Conflito', 'Três Homens em Conflito'}\n",
        "print(filmes)\n",
        "print(list(filmes))"
      ],
      "metadata": {
        "colab": {
          "base_uri": "https://localhost:8080/"
        },
        "id": "C8FxTPg6_dtB",
        "outputId": "fcfb3582-2bee-4742-b986-57b6afe9ca5b"
      },
      "execution_count": null,
      "outputs": [
        {
          "output_type": "stream",
          "name": "stdout",
          "text": [
            "{'12 Homens e uma Sentença', 'O Poderoso Chefão II', 'Pulp Fiction: Tempo de Violência', 'A Lista de Schindler', 'Batman: O Cavaleiro das Trevas', 'O Senhor dos Anéis: A Sociedade do Anel', 'Três Homens em Conflito', 'Um Sonho de Liberdade', 'O Poderoso Chefão', 'O Senhor dos Anéis: O Retorno do Rei'}\n",
            "['12 Homens e uma Sentença', 'O Poderoso Chefão II', 'Pulp Fiction: Tempo de Violência', 'A Lista de Schindler', 'Batman: O Cavaleiro das Trevas', 'O Senhor dos Anéis: A Sociedade do Anel', 'Três Homens em Conflito', 'Um Sonho de Liberdade', 'O Poderoso Chefão', 'O Senhor dos Anéis: O Retorno do Rei']\n"
          ]
        }
      ]
    },
    {
      "cell_type": "code",
      "source": [
        "filmes_lista = []\n",
        "\n",
        "filmes = {'nome': 'Um Sonho de Liberdade', 'ano': '1994'}, {'sinopse': 'Dois homens presos se reúnem ao longo de vários anos, encontrando consolo e eventual redenção através de atos de decência comum.'}\n",
        "filmes_lista.append(filmes)\n",
        "\n",
        "filmes = {'nome': 'O Poderoso Chefão', 'ano': '1972'}, {'sinopse': 'O patriarca idoso de uma dinastia do crime organizado transfere o controle de seu império clandestino para seu filho relutante.'}\n",
        "filmes_lista.append(filmes)\n",
        "\n",
        "filmes = {'nome': 'Batman: O Cavaleiro das Trevas', 'ano': '2008'}, {'sinopse': 'Quando a ameaça conhecida como O Coringa surge de seu passado, causa estragos e caos nas pessoas de Gotham. O Cavaleiro das Trevas deve aceitar um dos maiores testes para combater a injustiça.'}\n",
        "filmes_lista.append(filmes)\n",
        "\n",
        "filmes = {'nome': 'O Poderoso Chefão II', 'ano': '1974'}, {'sinopse': 'Em 1950, Michael Corleone, agora à frente da família, tenta expandir o negócio do crime a Las Vegas, Los Angeles e Cuba. Paralelamente, é revelada a história de Vito Corleone, e de como saiu da Sicília e chegou a Nova Iorque.'}\n",
        "filmes_lista.append(filmes)\n",
        "\n",
        "filmes = {'nome': '12 Homens e uma Sentença', 'ano': '1957'}, {'sinopse': 'Um jurado que se aposenta tenta evitar um erro judicial forçando seus colegas a reconsiderarem as evidências.'}\n",
        "filmes_lista.append(filmes)\n",
        "\n",
        "filmes = {'nome': 'A Lista de Schindler', 'ano': '1993'}, {'sinopse': 'Depois de testemunhar a perseguição dos judaicos na Polônia ocupada pelos alemães durante a Segunda Guerra Mundial, o industrial Oskar Schindler se começa a preocupar com sua força de trabalho judaica.'}\n",
        "filmes_lista.append(filmes)\n",
        "\n",
        "filmes = {'nome': 'O Senhor dos Anéis: O Retorno do Rei', 'ano': '2003'}, {'sinopse': 'Gandalf e Aragorn lideram o Mundo dos Homens contra o exército de Sauron para desviar o olhar de Frodo e Sam quando eles se aproximam á Montanha da Perdição com o Um Anel.'}\n",
        "filmes_lista.append(filmes)\n",
        "\n",
        "filmes = {'nome': 'Pulp Fiction: Tempo de Violência', 'ano': '1994'}, {'sinopse': 'As vidas de dois assassinos da máfia, um boxeador, um gângster e sua esposa, e um par de bandidos se entrelaçam em quatro histórias de violência e redenção.'}\n",
        "filmes_lista.append(filmes)\n",
        "\n",
        "filmes = {'nome': 'O Senhor dos Anéis: A Sociedade do Anel', 'ano': '2001'}, {'sinopse': 'Um manso hobbit do Condado e oito companheiros partem em uma jornada para destruir o poderoso Um Anel e salvar a Terra-média das Trevas.'}\n",
        "filmes_lista.append(filmes)\n",
        "\n",
        "filmes = {'nome': 'Três Homens em Conflito ', 'ano': '1966'}, {'sinopse': 'Um impostor se junta com dois homens para encontrar fortuna num remoto cemitério.'}\n",
        "filmes_lista.append(filmes)\n",
        "\n",
        "print(filmes_lista)\n"
      ],
      "metadata": {
        "colab": {
          "base_uri": "https://localhost:8080/"
        },
        "id": "df0hE8W7AtDB",
        "outputId": "34139603-9117-441f-85cf-7a0d32105bcc"
      },
      "execution_count": null,
      "outputs": [
        {
          "output_type": "stream",
          "name": "stdout",
          "text": [
            "[({'nome': 'Um Sonho de Liberdade', 'ano': '1994'}, {'sinopse': 'Dois homens presos se reúnem ao longo de vários anos, encontrando consolo e eventual redenção através de atos de decência comum.'}), ({'nome': 'O Poderoso Chefão', 'ano': '1972'}, {'sinopse': 'O patriarca idoso de uma dinastia do crime organizado transfere o controle de seu império clandestino para seu filho relutante.'}), ({'nome': 'Batman: O Cavaleiro das Trevas', 'ano': '2008'}, {'sinopse': 'Quando a ameaça conhecida como O Coringa surge de seu passado, causa estragos e caos nas pessoas de Gotham. O Cavaleiro das Trevas deve aceitar um dos maiores testes para combater a injustiça.'}), ({'nome': 'O Poderoso Chefão II', 'ano': '1974'}, {'sinopse': 'Em 1950, Michael Corleone, agora à frente da família, tenta expandir o negócio do crime a Las Vegas, Los Angeles e Cuba. Paralelamente, é revelada a história de Vito Corleone, e de como saiu da Sicília e chegou a Nova Iorque.'}), ({'nome': '12 Homens e uma Sentença', 'ano': '1957'}, {'sinopse': 'Um jurado que se aposenta tenta evitar um erro judicial forçando seus colegas a reconsiderarem as evidências.'}), ({'nome': 'A Lista de Schindler', 'ano': '1993'}, {'sinopse': 'Depois de testemunhar a perseguição dos judaicos na Polônia ocupada pelos alemães durante a Segunda Guerra Mundial, o industrial Oskar Schindler se começa a preocupar com sua força de trabalho judaica.'}), ({'nome': 'O Senhor dos Anéis: O Retorno do Rei', 'ano': '2003'}, {'sinopse': 'Gandalf e Aragorn lideram o Mundo dos Homens contra o exército de Sauron para desviar o olhar de Frodo e Sam quando eles se aproximam á Montanha da Perdição com o Um Anel.'}), ({'nome': 'Pulp Fiction: Tempo de Violência', 'ano': '1994'}, {'sinopse': 'As vidas de dois assassinos da máfia, um boxeador, um gângster e sua esposa, e um par de bandidos se entrelaçam em quatro histórias de violência e redenção.'}), ({'nome': 'O Senhor dos Anéis: A Sociedade do Anel', 'ano': '2001'}, {'sinopse': 'Um manso hobbit do Condado e oito companheiros partem em uma jornada para destruir o poderoso Um Anel e salvar a Terra-média das Trevas.'}), ({'nome': 'Três Homens em Conflito ', 'ano': '1966'}, {'sinopse': 'Um impostor se junta com dois homens para encontrar fortuna num remoto cemitério.'})]\n"
          ]
        }
      ]
    },
    {
      "cell_type": "code",
      "source": [
        ""
      ],
      "metadata": {
        "id": "quEd3JBCE1Vs"
      },
      "execution_count": null,
      "outputs": []
    }
  ]
}
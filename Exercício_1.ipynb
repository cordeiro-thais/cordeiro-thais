{
  "nbformat": 4,
  "nbformat_minor": 0,
  "metadata": {
    "colab": {
      "name": "Exercício_1.ipynb",
      "provenance": [],
      "authorship_tag": "ABX9TyO30judodRvD0jH0Ny0RPY1",
      "include_colab_link": true
    },
    "kernelspec": {
      "name": "python3",
      "display_name": "Python 3"
    },
    "language_info": {
      "name": "python"
    }
  },
  "cells": [
    {
      "cell_type": "markdown",
      "metadata": {
        "id": "view-in-github",
        "colab_type": "text"
      },
      "source": [
        "<a href=\"https://colab.research.google.com/github/cordeiro-thais/cordeiro-thais/blob/main/Exerc%C3%ADcio_1.ipynb\" target=\"_parent\"><img src=\"https://colab.research.google.com/assets/colab-badge.svg\" alt=\"Open In Colab\"/></a>"
      ]
    },
    {
      "cell_type": "markdown",
      "source": [
        "Preencha as células de código para preencher os valores de (A), (B) e (C) na tabela de ticket médio abaixo;\n",
        "\n",
        "Aplique três métodos distintos na string abaixo, você pode conferir alguns métodos neste link. \n",
        "cancao = 'Roda mundo, roda gigante, roda moinho, roda pião.'\n",
        "\n",
        "Extraia da string abaixo o valor da taxa selic na variável selic e o valor do ano na variavel ano . Imprima os valores na tela.\n",
        "noticia = '''\n",
        "Selic vai a 2,75% e supera expectativas;\n",
        "é a primeira alta em 6 anos.\n",
        "'''\n",
        "\n",
        "Utilize a tabela da verdade para responder: qual o valor da variável x?\n",
        "a = False\n",
        "b = True\n",
        "x = not a & b\n",
        "\n"
      ],
      "metadata": {
        "id": "rqdY1O3y5scL"
      }
    },
    {
      "cell_type": "code",
      "execution_count": null,
      "metadata": {
        "id": "vlfIWHBx7FOc",
        "colab": {
          "base_uri": "https://localhost:8080/"
        },
        "outputId": "cbad9257-7304-4999-e087-ea295e683b6a"
      },
      "outputs": [
        {
          "output_type": "stream",
          "name": "stdout",
          "text": [
            "961.56\n"
          ]
        }
      ],
      "source": [
        "tkt = 320.52\n",
        "qtdv = 3\n",
        "A = tkt * qtdv\n",
        "print(A)"
      ]
    },
    {
      "cell_type": "markdown",
      "source": [
        ""
      ],
      "metadata": {
        "id": "6hqJJLgf5nLb"
      }
    },
    {
      "cell_type": "code",
      "source": [
        "vtv = 834.47\n",
        "tkt = 119.21\n",
        "B = vtv / tkt\n",
        "print (int(B))"
      ],
      "metadata": {
        "colab": {
          "base_uri": "https://localhost:8080/"
        },
        "id": "h92CH7leaNXk",
        "outputId": "f57820b2-5056-4131-9252-b94bf2c55257"
      },
      "execution_count": null,
      "outputs": [
        {
          "output_type": "stream",
          "name": "stdout",
          "text": [
            "7\n"
          ]
        }
      ]
    },
    {
      "cell_type": "code",
      "source": [
        "vtv = 15378.12\n",
        "qtv = 5\n",
        "C = vtv / qtv\n",
        "print (int(C))"
      ],
      "metadata": {
        "colab": {
          "base_uri": "https://localhost:8080/"
        },
        "id": "7GZaOdV5bAIu",
        "outputId": "e1d24f1f-9a15-4759-a1c9-89796fd50473"
      },
      "execution_count": null,
      "outputs": [
        {
          "output_type": "stream",
          "name": "stdout",
          "text": [
            "3075\n"
          ]
        }
      ]
    },
    {
      "cell_type": "code",
      "source": [
        "cancao = 'Roda mundo, roda gigante, roda moinho, roda pião.'\n",
        "cancao1 = cancao.replace(\"mundo\", \"viva\")\n",
        "print(cancao1)"
      ],
      "metadata": {
        "colab": {
          "base_uri": "https://localhost:8080/"
        },
        "id": "uqbqR_y3bb-M",
        "outputId": "cbd06404-f458-45cf-a9e8-78e5cd90c667"
      },
      "execution_count": 1,
      "outputs": [
        {
          "output_type": "stream",
          "name": "stdout",
          "text": [
            "Roda viva, roda gigante, roda moinho, roda pião.\n"
          ]
        }
      ]
    },
    {
      "cell_type": "code",
      "source": [
        "cancao = 'Roda mundo, roda gigante, roda moinho, roda pião.'\n",
        "print(cancao.count(\"roda\"))"
      ],
      "metadata": {
        "colab": {
          "base_uri": "https://localhost:8080/"
        },
        "id": "Vv65b0ECbdrZ",
        "outputId": "78793e12-39dc-4710-9226-7abebe6c5b89"
      },
      "execution_count": null,
      "outputs": [
        {
          "output_type": "stream",
          "name": "stdout",
          "text": [
            "3\n"
          ]
        }
      ]
    },
    {
      "cell_type": "code",
      "source": [
        "cancao = 'Roda mundo, roda gigante, roda moinho, roda pião.'\n",
        "print(cancao.startswith(\"Olá\"))"
      ],
      "metadata": {
        "colab": {
          "base_uri": "https://localhost:8080/"
        },
        "id": "UcH1eamndQDU",
        "outputId": "5860e9db-acd8-44e3-d630-78bac0ee4633"
      },
      "execution_count": null,
      "outputs": [
        {
          "output_type": "stream",
          "name": "stdout",
          "text": [
            "False\n"
          ]
        }
      ]
    },
    {
      "cell_type": "code",
      "source": [
        "noticia = '''\n",
        "Selic vai a 2,75% e supera expectativas;\n",
        "é a primeira alta em 6 anos.\n",
        "'''\n",
        "\n",
        "print(noticia[13:18])\n",
        "print(noticia[63])\n"
      ],
      "metadata": {
        "id": "vkwK78V7dpZF",
        "colab": {
          "base_uri": "https://localhost:8080/"
        },
        "outputId": "0028fe7e-6c25-4318-caf5-33699c02ac15"
      },
      "execution_count": 9,
      "outputs": [
        {
          "output_type": "stream",
          "name": "stdout",
          "text": [
            "2,75%\n",
            "6\n"
          ]
        }
      ]
    },
    {
      "cell_type": "code",
      "source": [
        "a = False\n",
        "b = True\n",
        "x = not a & b\n",
        "print(x)"
      ],
      "metadata": {
        "colab": {
          "base_uri": "https://localhost:8080/"
        },
        "id": "uROhCPvTsu4U",
        "outputId": "aeceb9e9-8d75-46f0-b3da-cef88db50f87"
      },
      "execution_count": 11,
      "outputs": [
        {
          "output_type": "stream",
          "name": "stdout",
          "text": [
            "True\n"
          ]
        }
      ]
    }
  ]
}
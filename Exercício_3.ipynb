{
  "cells": [
    {
      "cell_type": "markdown",
      "metadata": {
        "id": "view-in-github",
        "colab_type": "text"
      },
      "source": [
        "<a href=\"https://colab.research.google.com/github/cordeiro-thais/cordeiro-thais/blob/main/Exerc%C3%ADcio_3.ipynb\" target=\"_parent\"><img src=\"https://colab.research.google.com/assets/colab-badge.svg\" alt=\"Open In Colab\"/></a>"
      ]
    },
    {
      "cell_type": "markdown",
      "source": [
        ""
      ],
      "metadata": {
        "id": "Ecepz6ofF6fO"
      }
    },
    {
      "cell_type": "code",
      "execution_count": null,
      "metadata": {
        "colab": {
          "base_uri": "https://localhost:8080/"
        },
        "id": "l4zHvYbo6y7d",
        "outputId": "c958755b-7f15-4c16-81c2-b19d778b447f"
      },
      "outputs": [
        {
          "output_type": "stream",
          "name": "stdout",
          "text": [
            "{'tempo_gasto_site': 68.95, 'idade': 35, 'renda_area': 61833.9, 'tempo_gasto_internet': 256.09, 'cidade': 'Wrightburgh', 'pais': 'Tunisia', 'clicou_no_ad': 0}\n",
            "{'tempo_gasto_site': 80.23, 'idade': 31, 'renda_area': 68441.85, 'tempo_gasto_internet': 193.77, 'cidade': 'West Jodi', 'pais': 'Nauru', 'clicou_no_ad': 0}\n",
            "{'tempo_gasto_site': 69.47, 'idade': 26, 'renda_area': 59785.94, 'tempo_gasto_internet': 236.5, 'cidade': 'Davidton', 'pais': 'San Marino', 'clicou_no_ad': 0}\n",
            "{'tempo_gasto_site': 68.37, 'idade': 35, 'renda_area': 73889.99, 'tempo_gasto_internet': 225.58, 'cidade': 'South Manuel', 'pais': 'Iceland', 'clicou_no_ad': 0}\n",
            "{'tempo_gasto_site': 88.91, 'idade': 33, 'renda_area': 53852.85, 'tempo_gasto_internet': 208.36, 'cidade': 'Brandonstad', 'pais': 'Myanmar', 'clicou_no_ad': 0}\n",
            "{'tempo_gasto_site': None, 'idade': 48, 'renda_area': 24593.33, 'tempo_gasto_internet': 131.76, 'cidade': 'Port Jefferybury', 'pais': 'Australia', 'clicou_no_ad': 1}\n",
            "{'tempo_gasto_site': 74.53, 'idade': 30, 'renda_area': 68862.0, 'tempo_gasto_internet': 221.51, 'cidade': 'West Colin', 'pais': 'Grenada'}\n",
            "{'tempo_gasto_site': 69.88, 'idade': 20, 'renda_area': 55642.32, 'tempo_gasto_internet': 183.82, 'cidade': 'Ramirezton', 'pais': 'Ghana', 'clicou_no_ad': 0}\n",
            "['Tunisia', 'Nauru', 'Iceland', 'Myanmar', 'Australia']\n",
            "None\n",
            "[24593.33]\n",
            "Erro\n",
            "['West Jodi', 'Brandonstad', 'West Colin']\n"
          ]
        }
      ],
      "source": [
        "propaganda_online = [ \n",
        " {\n",
        " 'tempo_gasto_site': 68.95, 'idade': 35,\n",
        " 'renda_area': 61833.90, 'tempo_gasto_internet': 256.09,\n",
        " 'cidade': 'Wrightburgh', 'pais': 'Tunisia',\n",
        " 'clicou_no_ad': 0\n",
        " },\n",
        " {\n",
        " 'tempo_gasto_site': 80.23, 'idade': 31,\n",
        " 'renda_area': 68441.85, 'tempo_gasto_internet': 193.77,\n",
        " 'cidade': 'West Jodi', 'pais': 'Nauru',\n",
        " 'clicou_no_ad': 0\n",
        " },\n",
        " {\n",
        " 'tempo_gasto_site': 69.47, 'idade': 26,\n",
        " 'renda_area': 59785.94, 'tempo_gasto_internet': 236.50,\n",
        " 'cidade': 'Davidton', 'pais': 'San Marino',\n",
        " 'clicou_no_ad': 0\n",
        " },\n",
        " {\n",
        " 'tempo_gasto_site': 68.37, 'idade': 35,\n",
        " 'renda_area': 73889.99, 'tempo_gasto_internet': 225.58,\n",
        " 'cidade': 'South Manuel', 'pais': 'Iceland',\n",
        " 'clicou_no_ad': 0\n",
        " },\n",
        " {\n",
        " 'tempo_gasto_site': 88.91, 'idade': 33,\n",
        " 'renda_area': 53852.85, 'tempo_gasto_internet': 208.36,\n",
        " 'cidade': 'Brandonstad', 'pais': 'Myanmar',\n",
        " 'clicou_no_ad': 0\n",
        " },\n",
        " {\n",
        " 'tempo_gasto_site': None, 'idade': 48,\n",
        " 'renda_area': 24593.33, 'tempo_gasto_internet': 131.76,\n",
        " 'cidade': 'Port Jefferybury', 'pais': 'Australia',\n",
        " 'clicou_no_ad': 1\n",
        " },\n",
        " {\n",
        " 'tempo_gasto_site': 74.53, 'idade': 30,\n",
        " 'renda_area': 68862.00, 'tempo_gasto_internet': 221.51,\n",
        " 'cidade': 'West Colin', 'pais': 'Grenada'\n",
        " },\n",
        " {\n",
        " 'tempo_gasto_site': 69.88, 'idade': 20,\n",
        " 'renda_area': 55642.32, 'tempo_gasto_internet': 183.82,\n",
        " 'cidade': 'Ramirezton', 'pais': 'Ghana',\n",
        " 'clicou_no_ad': 0\n",
        " }\n",
        "] \n",
        "\n",
        "for dado_de_usuario in propaganda_online:\n",
        " print(dado_de_usuario)\n",
        "\n",
        "paises = []\n",
        "for dado_de_usuario in propaganda_online:\n",
        "  if dado_de_usuario['idade']>30:\n",
        "    paises.append(dado_de_usuario['pais'])\n",
        "\n",
        "print(paises)\n",
        "\n",
        "\n",
        "leads = []\n",
        "for dado_de_usuario in propaganda_online:\n",
        "  try:\n",
        "    if dado_de_usuario['clicou_no_ad']!=0:\n",
        "      leads.append(dado_de_usuario['renda_area'])\n",
        "  except KeyError:\n",
        "    print('None')\n",
        "\n",
        "print(leads)\n",
        "\n",
        "cidades = []\n",
        "\n",
        "for dado_de_usuario in propaganda_online:\n",
        "  try:\n",
        "    if dado_de_usuario['tempo_gasto_site'] > 70:\n",
        "      cidades.append(dado_de_usuario['cidade'])\n",
        "  except TypeError:\n",
        "   print('Erro')\n",
        "  \n",
        "print(cidades)\n"
      ]
    }
  ],
  "metadata": {
    "colab": {
      "name": "Exercício_3.ipynb",
      "provenance": [],
      "collapsed_sections": [],
      "authorship_tag": "ABX9TyMpqkI0p2SMAl+ezZmpy2YK",
      "include_colab_link": true
    },
    "kernelspec": {
      "display_name": "Python 3",
      "name": "python3"
    },
    "language_info": {
      "name": "python"
    }
  },
  "nbformat": 4,
  "nbformat_minor": 0
}